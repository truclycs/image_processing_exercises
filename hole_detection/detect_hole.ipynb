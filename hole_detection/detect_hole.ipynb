{
 "cells": [
  {
   "cell_type": "code",
   "execution_count": 1,
   "id": "uniform-chancellor",
   "metadata": {},
   "outputs": [],
   "source": [
    "import cv2\n",
    "import numpy as np\n",
    "import matplotlib.pyplot as plt"
   ]
  },
  {
   "cell_type": "code",
   "execution_count": 14,
   "id": "beginning-copper",
   "metadata": {},
   "outputs": [],
   "source": [
    "class HoleDetection:\n",
    "    def __init__(self, width=1312, height=902):\n",
    "        self.width = width\n",
    "        self.height = height\n",
    "    \n",
    "    def resize_image(self, image):\n",
    "        size = (self.width, self.height)\n",
    "        return cv2.resize(image, size)\n",
    "    \n",
    "    def detect_holes(self, image):\n",
    "        gray_image = cv2.cvtColor(image, cv2.COLOR_BGR2GRAY)\n",
    "        blur_image = cv2.medianBlur(image, 15)\n",
    "        edge_image = cv2.Canny(blur_image, 100, 200)\n",
    "        holes = cv2.HoughCircles(edge_image, cv2.HOUGH_GRADIENT, 10, 200, minRadius=30, maxRadius=35)\n",
    "        return holes, edge_image\n",
    "    \n",
    "    def identify_hole(self, image, holes):        \n",
    "        hole = None\n",
    "        visual_image = image.copy()\n",
    "        \n",
    "        if holes is None:\n",
    "            return None, visual_image\n",
    "        \n",
    "        holes = np.round(holes[0, :]).astype(\"int\")\n",
    "        for (x, y, r) in holes:\n",
    "            hole = (x, y, r)\n",
    "            cv2.circle(visual_image, (x, y), r, (0, 255, 0), 3)\n",
    "            \n",
    "        return hole, visual_image                     \n",
    "    \n",
    "    def __call__(self, image):\n",
    "        image = self.resize_image(image)\n",
    "        holes, edge_image = self.detect_holes(image)\n",
    "        hole, visual_image = self.identify_hole(image, holes)\n",
    "        return hole, visual_image, edge_image\n",
    "        "
   ]
  },
  {
   "cell_type": "code",
   "execution_count": 15,
   "id": "black-mistake",
   "metadata": {},
   "outputs": [],
   "source": [
    "from pathlib import Path"
   ]
  },
  {
   "cell_type": "code",
   "execution_count": 16,
   "id": "twelve-fellow",
   "metadata": {},
   "outputs": [],
   "source": [
    "def test():\n",
    "    image_patterns = ['*.jpg', '*.png', '*.jpeg', '*.JPG', '*.PNG', '*.JPEG']\n",
    "    input_dir = Path('./data_generator/sample/output')\n",
    "    image_paths = []\n",
    "    for image_pattern in image_patterns:\n",
    "        image_paths += list(input_dir.glob(f'**/{image_pattern}'))\n",
    "\n",
    "    hole_detector = HoleDetection()\n",
    "    \n",
    "    for image_path in image_paths:\n",
    "        image = cv2.imread(str(image_path))\n",
    "        hole, visual_image, edge_image = hole_detector(image)\n",
    "        cv2.imwrite(f'./data_generator/sample/result/{image_path.stem}_b.jpg', visual_image)\n",
    "        cv2.imwrite(f'./data_generator/sample/result/{image_path.stem}_a.jpg', edge_image)"
   ]
  },
  {
   "cell_type": "code",
   "execution_count": 17,
   "id": "amateur-variable",
   "metadata": {},
   "outputs": [],
   "source": [
    "test()"
   ]
  }
 ],
 "metadata": {
  "kernelspec": {
   "display_name": "Python 3",
   "language": "python",
   "name": "python3"
  },
  "language_info": {
   "codemirror_mode": {
    "name": "ipython",
    "version": 3
   },
   "file_extension": ".py",
   "mimetype": "text/x-python",
   "name": "python",
   "nbconvert_exporter": "python",
   "pygments_lexer": "ipython3",
   "version": "3.7.9"
  }
 },
 "nbformat": 4,
 "nbformat_minor": 5
}
