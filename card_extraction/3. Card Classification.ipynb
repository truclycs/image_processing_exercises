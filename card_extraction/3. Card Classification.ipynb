{
 "cells": [
  {
   "cell_type": "markdown",
   "metadata": {},
   "source": [
    "# Processor"
   ]
  },
  {
   "cell_type": "code",
   "execution_count": 20,
   "metadata": {},
   "outputs": [],
   "source": [
    "import torch\n",
    "from torchvision.models import MobileNetV2\n",
    "import time\n",
    "\n",
    "num_class = 10\n",
    "weight_path = '/home/vinhloiit/Documents/VTCC/id_info_extraction/models/weights/card_classification/pytorch/2011181202/best_model_30_loss=-0.0051.pt'\n",
    "image_size = (224, 224)"
   ]
  },
  {
   "cell_type": "code",
   "execution_count": 22,
   "metadata": {},
   "outputs": [
    {
     "name": "stdout",
     "output_type": "stream",
     "text": [
      "Load weight: 0.01947021484375s\n"
     ]
    }
   ],
   "source": [
    "model = MobileNetV2(num_class)\n",
    "\n",
    "t1 = time.time()\n",
    "model.load_state_dict(torch.load(weight_path, map_location='cpu')) # Load weight\n",
    "t2 = time.time()\n",
    "\n",
    "device = torch.device('cuda' if torch.cuda.is_available() else 'cpu') # Chọn device nếu là GPU thì sẽ chuyển sang GPU\n",
    "model.to(device)\n",
    "model.eval()\n",
    "\n",
    "print(f'Load weight: {t2 - t1}s')"
   ]
  },
  {
   "cell_type": "markdown",
   "metadata": {},
   "source": [
    "## 1. Preprocess"
   ]
  },
  {
   "cell_type": "code",
   "execution_count": 23,
   "metadata": {},
   "outputs": [],
   "source": [
    "import torch \n",
    "\n",
    "def preprocess(card_infos):\n",
    "    images = [card_info.image for card_info in card_infos]\n",
    "    samples = [cv2.resize(image, image_size) for image in images]\n",
    "    samples = np.array(samples)\n",
    "    samples = torch.from_numpy(samples).to(device).to(torch.float)\n",
    "    samples = samples.permute(0, 3, 1, 2)\n",
    "    samples = (samples - samples.mean(dim=(1, 2, 3), keepdim=True)) / samples.std(dim=(1, 2, 3), keepdim=True)\n",
    "    return card_infos, samples"
   ]
  },
  {
   "cell_type": "markdown",
   "metadata": {},
   "source": [
    "## 2. Process"
   ]
  },
  {
   "cell_type": "code",
   "execution_count": 24,
   "metadata": {},
   "outputs": [],
   "source": [
    "def process(card_infos, samples):\n",
    "    with torch.no_grad():\n",
    "        preds = model(samples).softmax(dim=1) # sum preds (dim=1) = 1, probability of each class\n",
    "    return card_infos, preds"
   ]
  },
  {
   "cell_type": "markdown",
   "metadata": {},
   "source": [
    "## 3. Postprocess"
   ]
  },
  {
   "cell_type": "code",
   "execution_count": 25,
   "metadata": {},
   "outputs": [],
   "source": [
    "bin_threshold = 0.60"
   ]
  },
  {
   "cell_type": "code",
   "execution_count": 26,
   "metadata": {},
   "outputs": [],
   "source": [
    "def postprocess(card_infos, preds):\n",
    "    card_types = [classes[pred.argmax().item()] for pred in preds] # Get idx has highest value \n",
    "    scores = [pred[pred.argmax()].item() for pred in preds] # Get prob of class is chosen\n",
    "    card_types = [card_type if score > bin_threshold else 'other' for card_type, score in zip(card_types, scores)]\n",
    "    return card_infos, card_types, scores"
   ]
  },
  {
   "cell_type": "markdown",
   "metadata": {},
   "source": [
    "# Stage"
   ]
  },
  {
   "cell_type": "markdown",
   "metadata": {},
   "source": [
    "## 1. Prerocess"
   ]
  },
  {
   "cell_type": "code",
   "execution_count": 27,
   "metadata": {},
   "outputs": [],
   "source": [
    "def spreprocess(card_infos):\n",
    "    if __debug__:\n",
    "        for i, card_info in enumerate(card_infos):\n",
    "            assert type(card_info.image).__name__ == 'ndarray', f'Image #{i} must be an ndarray.'\n",
    "            assert card_info.image.ndim == 3, f'Image #{i} must be a 3D ndarray.'\n",
    "            assert card_info.image.shape[-1] == 3, f'Image #{i} must have 3 channels.'\n",
    "    return card_infos,"
   ]
  },
  {
   "cell_type": "markdown",
   "metadata": {},
   "source": [
    "## 2. Process"
   ]
  },
  {
   "cell_type": "code",
   "execution_count": 28,
   "metadata": {},
   "outputs": [],
   "source": [
    "def sprocess(card_infos):\n",
    "    card_infos, samples = preprocess(card_infos)\n",
    "    card_infos, preds = process(card_infos, samples)\n",
    "    card_infos, card_types, scores = postprocess(card_infos, preds)\n",
    "    return card_infos, card_types, scores"
   ]
  },
  {
   "cell_type": "markdown",
   "metadata": {},
   "source": [
    "## 3. Postprocess"
   ]
  },
  {
   "cell_type": "code",
   "execution_count": 29,
   "metadata": {},
   "outputs": [],
   "source": [
    "classes = ['CMND_front', 'CMND_back', 'CCCD_front', 'CCCD_back', 'BLX_front', 'BLX_back', 'CMCC_front', 'PASSPORT', 'PASSPORT_OTHER', 'others']"
   ]
  },
  {
   "cell_type": "code",
   "execution_count": 30,
   "metadata": {},
   "outputs": [],
   "source": [
    "def spostprocess(card_infos, card_types, scores):\n",
    "    for card_info, card_type, score in zip(card_infos, card_types, scores):\n",
    "        card_info.card_type = card_type\n",
    "    return card_infos, "
   ]
  },
  {
   "cell_type": "markdown",
   "metadata": {},
   "source": [
    "# TEST"
   ]
  },
  {
   "cell_type": "code",
   "execution_count": 31,
   "metadata": {},
   "outputs": [],
   "source": [
    "class CardInfo():\n",
    "    def __init__(self, \n",
    "                 idx=None, \n",
    "                 original_image=None, \n",
    "                 image=None, \n",
    "                 warped_size=None, \n",
    "                 card_type: str=None, \n",
    "                 angle: int=None):\n",
    "        self.idx = idx\n",
    "        self.original_image = original_image\n",
    "        self.image = image\n",
    "        self.warped_size = warped_size\n",
    "        self.card_type = card_type\n",
    "        self.angle = angle"
   ]
  },
  {
   "cell_type": "code",
   "execution_count": 32,
   "metadata": {},
   "outputs": [],
   "source": [
    "import cv2\n",
    "import numpy as np\n",
    "\n",
    "image = cv2.imread('test_images/input/extracted_card.jpg')\n",
    "card_info = CardInfo()\n",
    "\n",
    "card_infos = []\n",
    "card_info.image = image\n",
    "card_infos.append(card_info)"
   ]
  },
  {
   "cell_type": "code",
   "execution_count": 33,
   "metadata": {},
   "outputs": [],
   "source": [
    "card_infos, = spreprocess(card_infos)\n",
    "card_infos, card_types, scores = sprocess(card_infos)\n",
    "card_infos, = spostprocess(card_infos, card_types, scores)"
   ]
  },
  {
   "cell_type": "code",
   "execution_count": 34,
   "metadata": {},
   "outputs": [],
   "source": [
    "cv2.imshow('image', image)\n",
    "cv2.waitKey()\n",
    "cv2.destroyAllWindows()"
   ]
  },
  {
   "cell_type": "code",
   "execution_count": 35,
   "metadata": {},
   "outputs": [
    {
     "name": "stdout",
     "output_type": "stream",
     "text": [
      "CMND_front\n"
     ]
    }
   ],
   "source": [
    "print(card_infos[0].card_type)"
   ]
  }
 ],
 "metadata": {
  "kernelspec": {
   "display_name": "Python 3",
   "language": "python",
   "name": "python3"
  },
  "language_info": {
   "codemirror_mode": {
    "name": "ipython",
    "version": 3
   },
   "file_extension": ".py",
   "mimetype": "text/x-python",
   "name": "python",
   "nbconvert_exporter": "python",
   "pygments_lexer": "ipython3",
   "version": "3.8.5"
  }
 },
 "nbformat": 4,
 "nbformat_minor": 4
}
