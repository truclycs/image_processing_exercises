{
 "cells": [
  {
   "cell_type": "code",
   "execution_count": 16,
   "metadata": {},
   "outputs": [],
   "source": [
    "import cv2\n",
    "import numpy as np\n",
    "import matplotlib.pyplot as plt"
   ]
  },
  {
   "cell_type": "code",
   "execution_count": 20,
   "metadata": {},
   "outputs": [
    {
     "name": "stdout",
     "output_type": "stream",
     "text": [
      "shape of gray image: (600, 600)\n",
      "max value: 255, min value: 0\n"
     ]
    },
    {
     "data": {
      "text/plain": [
       "<matplotlib.image.AxesImage at 0x7f35a2632c50>"
      ]
     },
     "execution_count": 20,
     "metadata": {},
     "output_type": "execute_result"
    },
    {
     "data": {
      "image/png": "[encoded data removed]",
      "text/plain": [
       "<Figure size 432x288 with 1 Axes>"
      ]
     },
     "metadata": {},
     "output_type": "display_data"
    }
   ],
   "source": [
    "image = cv2.imread('./test/example.png', cv2.IMREAD_GRAYSCALE)\n",
    "print(f'shape of gray image: {image.shape}')\n",
    "print(f'max value: {image.max()}, min value: {image.min()}')\n",
    "plt.imshow(image)"
   ]
  },
  {
   "cell_type": "markdown",
   "metadata": {},
   "source": [
    "## Convert Image to Binary Image"
   ]
  },
  {
   "cell_type": "code",
   "execution_count": 26,
   "metadata": {},
   "outputs": [],
   "source": [
    "image = cv2.imread('./test/example.png')\n",
    "gray_image = cv2.cvtColor(image, cv2.COLOR_BGR2GRAY)\n",
    "ret, binary_image = cv2.threshold(gray_image, 0, 255, cv2.THRESH_BINARY | cv2.THRESH_OTSU)"
   ]
  },
  {
   "cell_type": "markdown",
   "metadata": {},
   "source": [
    "## Connected Components in Binary Image"
   ]
  },
  {
   "cell_type": "code",
   "execution_count": 27,
   "metadata": {},
   "outputs": [],
   "source": [
    "# find all connected components\n",
    "num_labels, labels = cv2.connectedComponents(binary_image)\n",
    "\n",
    "masks = []\n",
    "for i in range(1, num_labels):\n",
    "    mask = (labels == i).astype(np.uint8) * 255\n",
    "    masks.append(mask)\n",
    "    cv2.imshow(f'image_{i}', mask)\n",
    "    cv2.waitKey()\n",
    "    cv2.destroyAllWindows()"
   ]
  },
  {
   "cell_type": "markdown",
   "metadata": {},
   "source": [
    "## Contours of Binary Image"
   ]
  },
  {
   "cell_type": "code",
   "execution_count": 31,
   "metadata": {},
   "outputs": [
    {
     "name": "stdout",
     "output_type": "stream",
     "text": [
      "Number of contours:  1\n"
     ]
    }
   ],
   "source": [
    "# find convex hull of each mask in labels\n",
    "contours, hierarchy = cv2.findContours(binary_image, cv2.RETR_EXTERNAL, cv2.CHAIN_APPROX_SIMPLE)\n",
    "print('Number of contours: ', len(contours))\n",
    "for contour in contours:\n",
    "    dummy_image = image.copy()\n",
    "    cv2.drawContours(dummy_image, [contour], -1, (0, 255, 0), 3)\n",
    "    cv2.imshow('testing contour all image', dummy_image)\n",
    "    cv2.waitKey()\n",
    "    cv2.destroyAllWindows()"
   ]
  },
  {
   "cell_type": "markdown",
   "metadata": {},
   "source": [
    "## Convex Hulls"
   ]
  },
  {
   "cell_type": "code",
   "execution_count": 50,
   "metadata": {},
   "outputs": [],
   "source": [
    "testing_mask = masks[0]\n",
    "contours, _ = cv2.findContours(testing_mask, cv2.RETR_EXTERNAL, cv2.CHAIN_APPROX_SIMPLE)\n",
    "hull = cv2.convexHull(contours[0])\n",
    "polygon = np.squeeze(np.array(hull), axis=1)"
   ]
  },
  {
   "cell_type": "code",
   "execution_count": 51,
   "metadata": {},
   "outputs": [],
   "source": [
    "testing_hull = np.stack([testing_mask] * 3, axis=2)\n",
    "for i, point in enumerate(polygon):\n",
    "    cv2.circle(testing_hull, center=tuple(point), radius=3, color=(0, 0, 255), thickness=-1)\n",
    "    cv2.line(testing_hull, pt1=tuple(polygon[i % len(polygon)]), pt2=tuple(polygon[(i + 1) % len(polygon)]), color=(0, 255, 0), thickness=1)\n",
    "cv2.imshow('convex hull', testing_hull)\n",
    "cv2.waitKey()\n",
    "cv2.destroyAllWindows()"
   ]
  },
  {
   "cell_type": "code",
   "execution_count": 52,
   "metadata": {},
   "outputs": [],
   "source": [
    "testing_contour = np.stack([testing_mask] * 3, axis=2)\n",
    "cv2.drawContours(testing_contour, [contour], -1, (0, 255, 0), 3)\n",
    "cv2.imshow('draw contour', testing_contour)\n",
    "cv2.waitKey()\n",
    "cv2.destroyAllWindows()"
   ]
  },
  {
   "cell_type": "markdown",
   "metadata": {},
   "source": [
    "## Approx Contours"
   ]
  },
  {
   "cell_type": "code",
   "execution_count": 48,
   "metadata": {},
   "outputs": [],
   "source": [
    "testing_mask = masks[0]\n",
    "contours, _ = cv2.findContours(testing_mask, cv2.RETR_EXTERNAL, cv2.CHAIN_APPROX_SIMPLE)\n",
    "contour = contours[0]"
   ]
  },
  {
   "cell_type": "code",
   "execution_count": 49,
   "metadata": {},
   "outputs": [],
   "source": [
    "# contour Perimeter\n",
    "perimeter = cv2.arcLength(contour, True)\n",
    "# contour approximation\n",
    "epsilon = 0.01 * perimeter\n",
    "approx = cv2.approxPolyDP(contour, epsilon, True)\n",
    "# approximation testing\n",
    "testing_approximation = np.stack([testing_mask] * 3, axis=2)\n",
    "cv2.drawContours(testing_approximation, [approx], -1, (0, 255, 0), 3)\n",
    "cv2.imshow('approx contour', testing_approximation)\n",
    "cv2.waitKey()\n",
    "cv2.destroyAllWindows()"
   ]
  },
  {
   "cell_type": "markdown",
   "metadata": {},
   "source": [
    "## Convex Hull with Shapely.geometry"
   ]
  },
  {
   "cell_type": "code",
   "execution_count": 55,
   "metadata": {},
   "outputs": [],
   "source": [
    "testing_mask = masks[0]\n",
    "contours, _ = cv2.findContours(testing_mask, cv2.RETR_EXTERNAL, cv2.CHAIN_APPROX_SIMPLE)\n",
    "contour = np.squeeze(np.array(contours[0]), axis=1)"
   ]
  },
  {
   "cell_type": "code",
   "execution_count": 56,
   "metadata": {},
   "outputs": [],
   "source": [
    "from shapely.geometry import MultiPoint\n",
    "convex_hull = MultiPoint(contour).convex_hull"
   ]
  },
  {
   "cell_type": "code",
   "execution_count": 57,
   "metadata": {},
   "outputs": [
    {
     "data": {
      "image/svg+xml": [
       "<svg xmlns=\"http://www.w3.org/2000/svg\" xmlns:xlink=\"http://www.w3.org/1999/xlink\" width=\"300\" height=\"300\" viewBox=\"88.36 121.36 316.28 395.28\" preserveAspectRatio=\"xMinYMin meet\"><g transform=\"matrix(1,0,0,-1,0,638.0)\"><path fill-rule=\"evenodd\" fill=\"#66cc99\" stroke=\"#555555\" stroke-width=\"2.6351999999999998\" opacity=\"0.6\" d=\"M 247.0,136.0 L 105.0,141.0 L 103.0,143.0 L 103.0,162.0 L 125.0,500.0 L 127.0,502.0 L 258.0,502.0 L 386.0,498.0 L 388.0,497.0 L 390.0,495.0 L 390.0,491.0 L 389.0,140.0 L 386.0,137.0 L 334.0,136.0 L 247.0,136.0 z\" /></g></svg>"
      ],
      "text/plain": [
       "<shapely.geometry.polygon.Polygon at 0x7f35a25ec160>"
      ]
     },
     "execution_count": 57,
     "metadata": {},
     "output_type": "execute_result"
    }
   ],
   "source": [
    "convex_hull"
   ]
  },
  {
   "cell_type": "code",
   "execution_count": 58,
   "metadata": {},
   "outputs": [
    {
     "data": {
      "image/svg+xml": [
       "<svg xmlns=\"http://www.w3.org/2000/svg\" xmlns:xlink=\"http://www.w3.org/1999/xlink\" width=\"300\" height=\"300\" viewBox=\"88.36 121.36 316.28 395.28\" preserveAspectRatio=\"xMinYMin meet\"><g transform=\"matrix(1,0,0,-1,0,638.0)\"><polyline fill=\"none\" stroke=\"#66cc99\" stroke-width=\"2.6351999999999998\" points=\"247.0,136.0 105.0,141.0 103.0,143.0 103.0,162.0 125.0,500.0 127.0,502.0 258.0,502.0 386.0,498.0 388.0,497.0 390.0,495.0 390.0,491.0 389.0,140.0 386.0,137.0 334.0,136.0 247.0,136.0\" opacity=\"0.8\" /></g></svg>"
      ],
      "text/plain": [
       "<shapely.geometry.polygon.LinearRing at 0x7f35a25ce240>"
      ]
     },
     "execution_count": 58,
     "metadata": {},
     "output_type": "execute_result"
    }
   ],
   "source": [
    "convex_hull.exterior"
   ]
  },
  {
   "cell_type": "code",
   "execution_count": 59,
   "metadata": {},
   "outputs": [
    {
     "data": {
      "text/plain": [
       "[(247.0, 136.0),\n",
       " (105.0, 141.0),\n",
       " (103.0, 143.0),\n",
       " (103.0, 162.0),\n",
       " (125.0, 500.0),\n",
       " (127.0, 502.0),\n",
       " (258.0, 502.0),\n",
       " (386.0, 498.0),\n",
       " (388.0, 497.0),\n",
       " (390.0, 495.0),\n",
       " (390.0, 491.0),\n",
       " (389.0, 140.0),\n",
       " (386.0, 137.0),\n",
       " (334.0, 136.0),\n",
       " (247.0, 136.0)]"
      ]
     },
     "execution_count": 59,
     "metadata": {},
     "output_type": "execute_result"
    }
   ],
   "source": [
    "list(convex_hull.exterior.coords)"
   ]
  },
  {
   "cell_type": "markdown",
   "metadata": {},
   "source": [
    "## Intersection Point"
   ]
  },
  {
   "cell_type": "code",
   "execution_count": 283,
   "metadata": {},
   "outputs": [],
   "source": [
    "# from shapely.geometry import LineString\n",
    "\n",
    "# def find_intersection_point(line1, line2):\n",
    "#     line1 = LineString(line1)\n",
    "#     line2 = LineString(line2)\n",
    "#     point = None\n",
    "#     if line1.intersects(line2):\n",
    "#         point = line1.intersection(line2)\n",
    "#         point = point.x, point.y\n",
    "#     return point"
   ]
  },
  {
   "cell_type": "code",
   "execution_count": 32,
   "metadata": {},
   "outputs": [],
   "source": [
    "def intersection_point(line1, line2):\n",
    "    def get_slope(point1, point2):\n",
    "        if point1[0] == point2[0]:\n",
    "            return None\n",
    "        return (point1[1] - point2[1]) / (point1[0] - point2[0])\n",
    "\n",
    "    def get_intercept(slope, point):\n",
    "        return point[1] - slope * point[0]\n",
    "\n",
    "    slope1 = get_slope(line1[0], line1[1])\n",
    "    slope2 = get_slope(line2[0], line2[1])\n",
    "\n",
    "    if slope1 == slope2:\n",
    "        return None\n",
    "\n",
    "    b1 = get_intercept(slope1, line1[0])\n",
    "    b2 = get_intercept(slope2, line2[0])\n",
    "    inter_x = int((b1 - b2) / (slope2 - slope1))\n",
    "    inter_y = int(slope1 * inter_x + b1)\n",
    "\n",
    "    return [inter_x, inter_y]"
   ]
  },
  {
   "cell_type": "code",
   "execution_count": 33,
   "metadata": {},
   "outputs": [
    {
     "name": "stdout",
     "output_type": "stream",
     "text": [
      "[1, 1]\n"
     ]
    }
   ],
   "source": [
    "print(intersection_point(line1=[[0, 0], [0.5, 0.5]], line2=[[2, 0], [0, 2]]))"
   ]
  },
  {
   "cell_type": "markdown",
   "metadata": {},
   "source": [
    "## Function find convex hull of binary image"
   ]
  },
  {
   "cell_type": "code",
   "execution_count": 36,
   "metadata": {},
   "outputs": [],
   "source": [
    "def find_convex_hulls(pred, binary_threshold=0.6, area_threshold=0.0, vertical_threshold=20):\n",
    "    convex_hulls = []\n",
    "    binary_image = (pred > binary_threshold).astype(np.uint8)\n",
    "    binary_image = cv2.morphologyEx(binary_image, cv2.MORPH_OPEN, np.ones(shape=(5, 5), dtype=np.uint8))\n",
    "    num_label, label = cv2.connectedComponents(binary_image)\n",
    "    for i in range(1, num_label):\n",
    "        contours, _ = cv2.findContours((label == i).astype(np.uint8), cv2.RETR_EXTERNAL, cv2.CHAIN_APPROX_SIMPLE)\n",
    "        contour = contours[0]\n",
    "        if cv2.contourArea(contour) > area_threshold * pred.size:\n",
    "            epsilon = 0.009 * cv2.arcLength(contour, closed=True)\n",
    "            approx_contour = cv2.approxPolyDP(contour, epsilon, closed=True)\n",
    "            convex_hull = cv2.convexHull(approx_contour) # approximate contour to reduce num of points\n",
    "            for inc in range(5):\n",
    "                if convex_hull.shape[0] <= vertical_threshold:\n",
    "                    break\n",
    "                epsilon = 0.002 * (1 + inc) * cv2.arcLength(contour, closed=True)\n",
    "                convex_hull = cv2.approxPolyDP(convex_hull, epsilon, closed=True)\n",
    "\n",
    "            if 4 <= convex_hull.shape[0] <= vertical_threshold:\n",
    "                convex_hulls.append(np.squeeze(np.array(convex_hull), axis=1))\n",
    "\n",
    "    return convex_hulls"
   ]
  },
  {
   "cell_type": "code",
   "execution_count": 40,
   "metadata": {},
   "outputs": [],
   "source": [
    "def show_convex_hull(pred, polygon):\n",
    "    testing_hull = np.stack([pred] * 3, axis=2)\n",
    "    for i, point in enumerate(polygon):\n",
    "        cv2.circle(testing_hull, center=tuple(point), radius=3, color=(0, 0, 255), thickness=-1)\n",
    "        cv2.line(testing_hull, pt1=tuple(polygon[i % len(polygon)]), pt2=tuple(polygon[(i + 1) % len(polygon)]), color=(0, 255, 0), thickness=1)\n",
    "    cv2.imshow('find convex hull', testing_hull)\n",
    "    cv2.waitKey()\n",
    "    cv2.destroyAllWindows()"
   ]
  },
  {
   "cell_type": "code",
   "execution_count": 41,
   "metadata": {},
   "outputs": [],
   "source": [
    "pred = cv2.imread('./test/example.png', cv2.IMREAD_GRAYSCALE) / 255\n",
    "convex_hulls = find_convex_hulls(pred)\n",
    "for polygon in convex_hulls:\n",
    "    show_convex_hull(pred, polygon)"
   ]
  },
  {
   "cell_type": "markdown",
   "metadata": {},
   "source": [
    "## IOU of 2 polygons"
   ]
  },
  {
   "cell_type": "code",
   "execution_count": 34,
   "metadata": {},
   "outputs": [],
   "source": [
    "from shapely.geometry import Polygon\n",
    "\n",
    "def compute_iou(polyA, polyB):\n",
    "    iou = 0.\n",
    "    polyA = Polygon(polyA)\n",
    "    polyB = Polygon(polyB)\n",
    "    if polyA.intersects(polyB):\n",
    "        iou = polyA.intersection(polyB).area / polyA.union(polyB).area\n",
    "    return iou"
   ]
  },
  {
   "cell_type": "code",
   "execution_count": 35,
   "metadata": {},
   "outputs": [
    {
     "data": {
      "text/plain": [
       "0.14285714285714285"
      ]
     },
     "execution_count": 35,
     "metadata": {},
     "output_type": "execute_result"
    }
   ],
   "source": [
    "polyA = [[0, 0], [0, 2], [2, 2], [2, 0]]\n",
    "polyB = [[1, 1], [1, 3], [3, 3], [3, 1]]\n",
    "compute_iou(polyA, polyB)"
   ]
  },
  {
   "cell_type": "markdown",
   "metadata": {},
   "source": [
    "## Find Enclosing Quadrileteral"
   ]
  },
  {
   "cell_type": "code",
   "execution_count": 42,
   "metadata": {},
   "outputs": [],
   "source": [
    "import cv2\n",
    "import itertools\n",
    "import numpy as np\n",
    "from shapely.geometry import box, Point, Polygon\n",
    "\n",
    "\n",
    "class EnclosingQuadrilateral:\n",
    "    def __init__(self):\n",
    "        self.binary_threshold = 0.6\n",
    "        self.area_threshold = 0.0\n",
    "        self.vertical_threshold = 20\n",
    "        self.iou_threshold = 0.8\n",
    "\n",
    "    def _order_points(self, points):\n",
    "        assert len(points) == 4, 'Length of points must be 4'\n",
    "        left = sorted(points, key=lambda p: p[0])[:2]\n",
    "        right = sorted(points, key=lambda p: p[0])[2:]\n",
    "        tl, bl = sorted(left, key=lambda p: p[1])\n",
    "        tr, br = sorted(right, key=lambda p: p[1])\n",
    "        return [tl, tr, br, bl]\n",
    "\n",
    "    def _compute_iou(self, polyA, polyB):\n",
    "        iou = 0.\n",
    "        polyA = Polygon(polyA)\n",
    "        polyB = Polygon(polyB)\n",
    "        if polyA.intersects(polyB):\n",
    "            iou = polyA.intersection(polyB).area / polyA.union(polyB).area\n",
    "        return iou\n",
    "\n",
    "    def _intersection_point(self, line1, line2):\n",
    "        a1 = line1[1][1] - line1[0][1]\n",
    "        b1 = line1[0][0] - line1[1][0]\n",
    "        a2 = line2[1][1] - line2[0][1]\n",
    "        b2 = line2[0][0] - line2[1][0]\n",
    "        determinant = a1 * b2 - a2 * b1\n",
    "        if determinant == 0:\n",
    "            return None\n",
    "        c1 = (a1 / determinant) * line1[0][0] + (b1 / determinant) * line1[0][1]\n",
    "        c2 = (a2 / determinant) * line2[0][0] + (b2 / determinant) * line2[0][1]\n",
    "        x = b2 * c1 - b1 * c2\n",
    "        y = a1 * c2 - a2 * c1\n",
    "        return [int(x), int(y)]\n",
    "\n",
    "    def _convex_hulls(self, pred, binary_threshold=0.6, area_threshold=0.0, vertical_threshold=20):\n",
    "        convex_hulls = []\n",
    "        binary_image = (pred > binary_threshold).astype(np.uint8)\n",
    "        binary_image = cv2.morphologyEx(binary_image, cv2.MORPH_OPEN, np.ones(shape=(5, 5), dtype=np.uint8))\n",
    "        num_label, label = cv2.connectedComponents(binary_image)\n",
    "        for i in range(1, num_label):\n",
    "            contours, _ = cv2.findContours((label == i).astype(np.uint8), cv2.RETR_EXTERNAL, cv2.CHAIN_APPROX_SIMPLE)\n",
    "            contour = contours[0]\n",
    "            if cv2.contourArea(contour) > area_threshold * pred.size:\n",
    "                epsilon = 0.009 * cv2.arcLength(contour, closed=True)\n",
    "                approx_contour = cv2.approxPolyDP(contour, epsilon, closed=True)\n",
    "                convex_hull = cv2.convexHull(approx_contour)  # approximate contour to reduce num of points\n",
    "                for inc in range(5):\n",
    "                    if convex_hull.shape[0] <= vertical_threshold:\n",
    "                        break\n",
    "                    epsilon = 0.002 * (1 + inc) * cv2.arcLength(contour, closed=True)\n",
    "                    convex_hull = cv2.approxPolyDP(convex_hull, epsilon, closed=True)\n",
    "\n",
    "                if 4 <= convex_hull.shape[0] <= vertical_threshold:\n",
    "                    convex_hulls.append(np.squeeze(np.array(convex_hull), axis=1))\n",
    "\n",
    "        return convex_hulls\n",
    "\n",
    "    def _enclosing_quadrilateral(self, pred, convex_hulls, iou_threshold):\n",
    "        enclosing_quads = []\n",
    "        x1, x2 = [-pred.shape[0], 2 * pred.shape[0]]\n",
    "        y1, y2 = [-pred.shape[1], 2 * pred.shape[1]]\n",
    "        boundary = box(x1, y1, x2, y2)\n",
    "        for polygon in convex_hulls:\n",
    "            num_verticals = len(polygon)\n",
    "            max_iou = 0.\n",
    "            enclosing_quad = None\n",
    "            for (x, y, z, t) in itertools.combinations(range(num_verticals), 4):\n",
    "                lines = [\n",
    "                    [polygon[x], polygon[(x + 1) % num_verticals]],\n",
    "                    [polygon[y], polygon[(y + 1) % num_verticals]],\n",
    "                    [polygon[z], polygon[(z + 1) % num_verticals]],\n",
    "                    [polygon[t], polygon[(t + 1) % num_verticals]]\n",
    "                ]\n",
    "                points = []\n",
    "                for i in range(4):\n",
    "                    point = self._intersection_point(lines[i], lines[(i + 1) % 4])\n",
    "                    if (not point) or (point in points) or (not boundary.contains(Point(point))):\n",
    "                        break\n",
    "                    points.append(point)\n",
    "\n",
    "                if len(points) == 4 and Polygon(self._order_points(points)).is_valid:\n",
    "                    candidate_quad = self._order_points(points)\n",
    "                    iou = self._compute_iou(candidate_quad, polygon)\n",
    "                    if iou > max_iou and iou > iou_threshold:\n",
    "                        enclosing_quad = candidate_quad\n",
    "                        max_iou = iou\n",
    "\n",
    "            if enclosing_quad:\n",
    "                enclosing_quads.append(enclosing_quad)\n",
    "\n",
    "        return enclosing_quads\n",
    "\n",
    "    def __call__(self, pred):\n",
    "        convex_hulls = self._convex_hulls(pred, self.binary_threshold, self.area_threshold, self.vertical_threshold)\n",
    "        enclosing_quads = self._enclosing_quadrilateral(pred, convex_hulls, self.iou_threshold)\n",
    "        return enclosing_quads\n"
   ]
  },
  {
   "cell_type": "code",
   "execution_count": 45,
   "metadata": {},
   "outputs": [
    {
     "name": "stdout",
     "output_type": "stream",
     "text": [
      "processing time: 0.06368637084960938\n"
     ]
    }
   ],
   "source": [
    "import time\n",
    "minEnclosingQuad = EnclosingQuadrilateral()\n",
    "pred = cv2.imread('./test/example.png', cv2.IMREAD_GRAYSCALE) / 255.\n",
    "t1 = time.time()\n",
    "enclosing_quads = minEnclosingQuad(pred)\n",
    "t2 = time.time()\n",
    "print(f'processing time: {t2 - t1}')"
   ]
  },
  {
   "cell_type": "code",
   "execution_count": 13,
   "metadata": {},
   "outputs": [],
   "source": [
    "for quad in enclosing_quads:\n",
    "    quad = np.int32(quad)\n",
    "    testing_quad = np.stack([pred] * 3, axis=2)\n",
    "    cv2.polylines(testing_quad, [quad], True, (255, 0, 0), 3)\n",
    "    cv2.imshow('find quad', testing_quad)\n",
    "    cv2.waitKey()\n",
    "    cv2.destroyAllWindows()"
   ]
  },
  {
   "cell_type": "markdown",
   "metadata": {},
   "source": [
    "## Hough Transform"
   ]
  },
  {
   "cell_type": "code",
   "execution_count": 1,
   "metadata": {},
   "outputs": [],
   "source": [
    "import cv2\n",
    "image = cv2.imread('./test/mask.png')"
   ]
  },
  {
   "cell_type": "code",
   "execution_count": 4,
   "metadata": {},
   "outputs": [],
   "source": [
    "image = cv2.cvtColor(image, cv2.COLOR_BGR2GRAY)\n",
    "ret, binary_image = cv2.threshold(image, 0, 255, cv2.THRESH_BINARY + cv2.THRESH_OTSU)\n",
    "# https://docs.opencv.org/master/d7/d4d/tutorial_py_thresholding.html"
   ]
  },
  {
   "cell_type": "code",
   "execution_count": null,
   "metadata": {},
   "outputs": [],
   "source": [
    "edged_image = cv2.Canny(binary_image, )\n",
    "# https://docs.opencv.org/3.1.0/da/d22/tutorial_py_canny.html"
   ]
  },
  {
   "cell_type": "code",
   "execution_count": 6,
   "metadata": {},
   "outputs": [],
   "source": [
    "cv2.imshow('image', binary_image)\n",
    "cv2.waitKey()\n",
    "cv2.destroyAllWindows()"
   ]
  }
 ],
 "metadata": {
  "kernelspec": {
   "display_name": "Python 3",
   "language": "python",
   "name": "python3"
  },
  "language_info": {
   "codemirror_mode": {
    "name": "ipython",
    "version": 3
   },
   "file_extension": ".py",
   "mimetype": "text/x-python",
   "name": "python",
   "nbconvert_exporter": "python",
   "pygments_lexer": "ipython3",
   "version": "3.6.10"
  }
 },
 "nbformat": 4,
 "nbformat_minor": 4
}
