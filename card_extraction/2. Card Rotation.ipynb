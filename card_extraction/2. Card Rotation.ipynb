{
 "cells": [
  {
   "cell_type": "markdown",
   "metadata": {},
   "source": [
    "# Processor"
   ]
  },
  {
   "cell_type": "code",
   "execution_count": 1,
   "metadata": {},
   "outputs": [],
   "source": [
    "import torch\n",
    "from torchvision.models import MobileNetV2\n",
    "import time\n",
    "\n",
    "num_class = 4 # 0, 1, 2, 3\n",
    "weight_path = '/home/vinhloiit/Documents/VTCC/id_info_extraction/models/weights/card_rotation/pytorch/2011171116/best_model_92_loss=-0.0004.pt'\n",
    "image_size = (224, 224)"
   ]
  },
  {
   "cell_type": "code",
   "execution_count": 2,
   "metadata": {},
   "outputs": [
    {
     "name": "stdout",
     "output_type": "stream",
     "text": [
      "Load weight: 0.02089548110961914s\n"
     ]
    }
   ],
   "source": [
    "model = MobileNetV2(num_class)\n",
    "t1 = time.time()\n",
    "model.load_state_dict(torch.load(weight_path, map_location='cpu')) # Load weight\n",
    "t2 = time.time()\n",
    "device = torch.device('cuda' if torch.cuda.is_available() else 'cpu') # Chọn device nếu là GPU thì sẽ chuyển sang GPU\n",
    "model.to(device)\n",
    "model.eval()\n",
    "print(f'Load weight: {t2 - t1}s')"
   ]
  },
  {
   "cell_type": "markdown",
   "metadata": {},
   "source": [
    "## 1. Preprocess"
   ]
  },
  {
   "cell_type": "code",
   "execution_count": 3,
   "metadata": {},
   "outputs": [],
   "source": [
    "def _preprocess(card_infos):\n",
    "    images = [card_info.image for card_info in card_infos]\n",
    "    samples = [cv2.resize(image, image_size) for image in images]\n",
    "    samples = np.array(samples)\n",
    "    samples = torch.from_numpy(samples).to(device).to(torch.float)\n",
    "    samples = samples.permute(0, 3, 1, 2)\n",
    "    samples = (samples - samples.mean()) / samples.std()\n",
    "    return card_infos, samples"
   ]
  },
  {
   "cell_type": "markdown",
   "metadata": {},
   "source": [
    "## 2. Process"
   ]
  },
  {
   "cell_type": "code",
   "execution_count": 4,
   "metadata": {},
   "outputs": [],
   "source": [
    "def _process(card_infos, samples):\n",
    "    with torch.no_grad():\n",
    "        preds = model(samples).softmax(dim=1)\n",
    "    return card_infos, preds"
   ]
  },
  {
   "cell_type": "markdown",
   "metadata": {},
   "source": [
    "## 3. Postprocess\n"
   ]
  },
  {
   "cell_type": "code",
   "execution_count": 6,
   "metadata": {},
   "outputs": [],
   "source": [
    "def _postprocess(card_infos, preds):\n",
    "    #preds: probabilities of each class\n",
    "    images = [card_info.image for card_info in card_infos]\n",
    "    # Rotate image 90, 180, 270 degree\n",
    "    rotated_images = [np.rot90(image, k = -pred.argmax().item()) for (pred, image) in zip(preds, images)]\n",
    "    # argmax: get idx at highest value\n",
    "    rotated_angles = [pred.argmax().item() * 90 for pred in preds]\n",
    "    scores = [pred[pred.argmax()].item() for pred in preds]\n",
    "    return card_infos, rotated_images, rotated_angles, scores"
   ]
  },
  {
   "cell_type": "markdown",
   "metadata": {},
   "source": [
    "# Stage"
   ]
  },
  {
   "cell_type": "markdown",
   "metadata": {},
   "source": [
    "## 1. Preprocess"
   ]
  },
  {
   "cell_type": "code",
   "execution_count": 7,
   "metadata": {},
   "outputs": [],
   "source": [
    "def preprocess(card_infos):\n",
    "    if __debug__:\n",
    "        for i, card_info in enumerate(card_infos):\n",
    "            assert type(card_info.image).__name__ == 'ndarray', f'Image #{i} must be an ndarray.'\n",
    "            assert card_info.image.ndim == 3, f'Image #{i} must be a 3D ndarray.'\n",
    "            assert card_info.image.shape[-1] == 3, f'Image #{i} must have 3 channels.'\n",
    "\n",
    "    return card_infos,"
   ]
  },
  {
   "cell_type": "markdown",
   "metadata": {},
   "source": [
    "## 2. Process"
   ]
  },
  {
   "cell_type": "code",
   "execution_count": 8,
   "metadata": {},
   "outputs": [],
   "source": [
    "import cv2\n",
    "import numpy as np\n",
    "\n",
    "def process(card_infos):\n",
    "    card_infos, samples = _preprocess(card_infos)\n",
    "    card_infos, preds = _process(card_infos, samples)\n",
    "    card_infos, rotated_images, rotated_angles, scores = _postprocess(card_infos, preds)\n",
    "    return card_infos, rotated_images, rotated_angles, scores"
   ]
  },
  {
   "cell_type": "markdown",
   "metadata": {},
   "source": [
    "## 3. Postprocess"
   ]
  },
  {
   "cell_type": "code",
   "execution_count": 9,
   "metadata": {},
   "outputs": [],
   "source": [
    "def postprocess(card_infos, rotated_images, rotated_angles, scores):\n",
    "    for card_info, rotated_image, rotated_angle, score in zip(card_infos, rotated_images, rotated_angles, scores):\n",
    "        card_info.image = rotated_image\n",
    "        card_info.angle = rotated_angle\n",
    "    return card_infos,"
   ]
  },
  {
   "cell_type": "markdown",
   "metadata": {},
   "source": [
    "# TEST"
   ]
  },
  {
   "cell_type": "code",
   "execution_count": 29,
   "metadata": {},
   "outputs": [
    {
     "ename": "SyntaxError",
     "evalue": "f-string: empty expression not allowed (<ipython-input-29-811c505e4dce>, line 28)",
     "output_type": "error",
     "traceback": [
      "\u001b[0;36m  File \u001b[0;32m\"<ipython-input-29-811c505e4dce>\"\u001b[0;36m, line \u001b[0;32m28\u001b[0m\n\u001b[0;31m    _repr += f'{key}={!r value}, '\u001b[0m\n\u001b[0m             ^\u001b[0m\n\u001b[0;31mSyntaxError\u001b[0m\u001b[0;31m:\u001b[0m f-string: empty expression not allowed\n"
     ]
    }
   ],
   "source": [
    "from enum import Enum\n",
    "\n",
    "\n",
    "class DAO:\n",
    "    @staticmethod #Khong dung self\n",
    "    def _asdict(obj):\n",
    "        if isinstance(obj, dict):\n",
    "            return {key: DAO._asdict(value) for key, value in obj.items()}\n",
    "        elif isinstance(obj, list):\n",
    "            return [DAO._asdict(element) for element in obj]\n",
    "        elif isinstance(obj, tuple):\n",
    "            return tuple([DAO._asdict(element) for element in obj])\n",
    "        elif isinstance(obj, (int, float, str, bool)):\n",
    "            return obj\n",
    "        elif isinstance(obj, Enum):\n",
    "            return obj.value\n",
    "        elif isinstance(obj, DAO):\n",
    "            return obj.asdict()\n",
    "        else:\n",
    "            raise ValueError('Unsupported type {}.'.format(type(obj)))\n",
    "\n",
    "    def asdict(self):\n",
    "        return {key: DAO._asdict(value) for key, value in self.__dict__.items() if value is not None}\n",
    "\n",
    "    def __repr__(self):\n",
    "        _repr = f'{self.__class__.__name__}('\n",
    "        for key, value in self.__dict__.items():\n",
    "            _repr += f'{key}={value}, '\n",
    "        _repr = f'{_repr[:-2]})'\n",
    "\n",
    "        return _repr"
   ]
  },
  {
   "cell_type": "code",
   "execution_count": 30,
   "metadata": {},
   "outputs": [],
   "source": [
    "class CardInfo(DAO):\n",
    "    def __init__(self, \n",
    "                 image=None, \n",
    "                 angle: int=None):\n",
    "        self.image = image\n",
    "        self.angle = angle"
   ]
  },
  {
   "cell_type": "code",
   "execution_count": 26,
   "metadata": {},
   "outputs": [],
   "source": [
    "image = cv2.imread('test_images/input/warped_card.jpg')\n",
    "card_info = CardInfo()\n",
    "\n",
    "card_infos = []\n",
    "card_info.image = image\n",
    "card_infos.append(card_info)"
   ]
  },
  {
   "cell_type": "code",
   "execution_count": 15,
   "metadata": {},
   "outputs": [],
   "source": [
    "cv2.imshow('original image', image)\n",
    "cv2.waitKey()\n",
    "cv2.destroyAllWindows()"
   ]
  },
  {
   "cell_type": "code",
   "execution_count": 27,
   "metadata": {},
   "outputs": [],
   "source": [
    "card_infos, = preprocess(card_infos)\n",
    "card_infos, rotated_images, rotated_angles, scores = process(card_infos)\n",
    "card_infos, = postprocess(card_infos, rotated_images, rotated_angles, scores)"
   ]
  },
  {
   "cell_type": "code",
   "execution_count": 17,
   "metadata": {},
   "outputs": [],
   "source": [
    "for card_info in card_infos:\n",
    "    cv2.imshow('rotated image', card_info.image)\n",
    "    cv2.waitKey()\n",
    "    cv2.destroyAllWindows()"
   ]
  },
  {
   "cell_type": "code",
   "execution_count": 28,
   "metadata": {},
   "outputs": [
    {
     "data": {
      "text/plain": [
       "[CardInfo(image=[[[106 129  75]\n",
       "   [106 129  75]\n",
       "   [106 129  74]\n",
       "   ...\n",
       "   [179 186 195]\n",
       "   [180 187 196]\n",
       "   [180 187 196]]\n",
       " \n",
       "  [[108 131  77]\n",
       "   [107 130  75]\n",
       "   [107 130  75]\n",
       "   ...\n",
       "   [178 185 194]\n",
       "   [178 185 194]\n",
       "   [179 186 195]]\n",
       " \n",
       "  [[108 131  76]\n",
       "   [108 131  76]\n",
       "   [107 130  75]\n",
       "   ...\n",
       "   [177 184 193]\n",
       "   [177 184 193]\n",
       "   [178 185 194]]\n",
       " \n",
       "  ...\n",
       " \n",
       "  [[135 138 146]\n",
       "   [135 138 146]\n",
       "   [135 138 146]\n",
       "   ...\n",
       "   [120 139 106]\n",
       "   [120 138 107]\n",
       "   [121 139 108]]\n",
       " \n",
       "  [[132 137 146]\n",
       "   [132 137 146]\n",
       "   [133 138 147]\n",
       "   ...\n",
       "   [126 144 115]\n",
       "   [126 143 116]\n",
       "   [127 144 117]]\n",
       " \n",
       "  [[133 138 147]\n",
       "   [133 138 147]\n",
       "   [133 138 147]\n",
       "   ...\n",
       "   [132 149 122]\n",
       "   [132 148 124]\n",
       "   [133 149 125]]], angle=90)]"
      ]
     },
     "execution_count": 28,
     "metadata": {},
     "output_type": "execute_result"
    }
   ],
   "source": [
    "card_infos"
   ]
  },
  {
   "cell_type": "code",
   "execution_count": null,
   "metadata": {},
   "outputs": [],
   "source": []
  }
 ],
 "metadata": {
  "kernelspec": {
   "display_name": "Python 3",
   "language": "python",
   "name": "python3"
  },
  "language_info": {
   "codemirror_mode": {
    "name": "ipython",
    "version": 3
   },
   "file_extension": ".py",
   "mimetype": "text/x-python",
   "name": "python",
   "nbconvert_exporter": "python",
   "pygments_lexer": "ipython3",
   "version": "3.8.5"
  }
 },
 "nbformat": 4,
 "nbformat_minor": 4
}
