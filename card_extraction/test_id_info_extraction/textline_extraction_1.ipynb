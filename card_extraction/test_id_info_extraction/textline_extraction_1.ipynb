{
 "cells": [
  {
   "cell_type": "code",
   "execution_count": 1,
   "metadata": {},
   "outputs": [],
   "source": [
    "# from importlib import import_module\n",
    "\n",
    "def create_instance(config, *args, **kwargs):\n",
    "#     module = config['module']\n",
    "    name = config['name']\n",
    "    config_kwargs = config.get(name, {})\n",
    "    for key, value in config_kwargs.items():\n",
    "        if isinstance(value, str):\n",
    "            config_kwargs[key] = eval(value)\n",
    "#     return getattr(import_module(module), name)(*args, **config_kwargs, **kwargs)\n",
    "    return eval(name)(*args, **config_kwargs, **kwargs)"
   ]
  },
  {
   "cell_type": "code",
   "execution_count": 2,
   "metadata": {},
   "outputs": [],
   "source": [
    "import torch\n",
    "\n",
    "from torch import nn\n",
    "from torchvision.models._utils import IntermediateLayerGetter\n",
    "from torchvision.models.utils import load_state_dict_from_url\n",
    "from torchvision.models import resnet\n",
    "from torchvision.models.segmentation import fcn\n",
    "\n",
    "\n",
    "model_urls = {\n",
    "    'fcn_resnet50_coco': 'https://download.pytorch.org/models/fcn_resnet50_coco-1167a1af.pth',\n",
    "    'fcn_resnet101_coco': 'https://download.pytorch.org/models/fcn_resnet101_coco-7ecb50ca.pth',\n",
    "}\n",
    "\n",
    "\n",
    "def _segm_resnet(name, backbone_name, num_classes, aux, pretrained_backbone=True, replace_stride_with_dilation=[False, True, True]):\n",
    "    backbone = resnet.__dict__[backbone_name](\n",
    "        pretrained=pretrained_backbone,\n",
    "        replace_stride_with_dilation=replace_stride_with_dilation)\n",
    "\n",
    "    return_layers = {'layer4': 'out'}\n",
    "    if aux:\n",
    "        return_layers['layer3'] = 'aux'\n",
    "    backbone = IntermediateLayerGetter(backbone, return_layers=return_layers)\n",
    "\n",
    "    aux_classifier = None\n",
    "    if aux:\n",
    "        inplanes = 1024\n",
    "        aux_classifier = fcn.FCNHead(inplanes, num_classes)\n",
    "\n",
    "    model_map = {\n",
    "        'fcn': (fcn.FCNHead, fcn.FCN),\n",
    "    }\n",
    "    inplanes = 2048\n",
    "    classifier = model_map[name][0](inplanes, num_classes)\n",
    "    base_model = model_map[name][1]\n",
    "\n",
    "    model = base_model(backbone, classifier, aux_classifier)\n",
    "    return model\n",
    "\n",
    "\n",
    "def _load_model(arch_type, backbone, pretrained, progress, num_classes, aux_loss, **kwargs):\n",
    "    if pretrained:\n",
    "        aux_loss = True\n",
    "    model = _segm_resnet(arch_type, backbone, num_classes, aux_loss, **kwargs)\n",
    "    if pretrained:\n",
    "        arch = arch_type + '_' + backbone + '_coco'\n",
    "        model_url = model_urls[arch]\n",
    "        if model_url is None:\n",
    "            raise NotImplementedError('pretrained {} is not supported as of now'.format(arch))\n",
    "        else:\n",
    "            state_dict = load_state_dict_from_url(model_url, progress=progress)\n",
    "            model.load_state_dict(state_dict)\n",
    "    return model\n",
    "\n",
    "\n",
    "class FCN(nn.Module):\n",
    "    def __init__(self, backbone, pretrained=False, progress=True, num_classes=21, aux_loss=None, **kwargs):\n",
    "        super(FCN, self).__init__()\n",
    "        supported_backbone = [\n",
    "            'resnet50',\n",
    "            'resnet101',\n",
    "        ]\n",
    "\n",
    "        if backbone not in supported_backbone:\n",
    "            raise ValueError('{} is not supported.'.format(backbone))\n",
    "\n",
    "        self.model = _load_model('fcn', backbone, pretrained, progress, num_classes, aux_loss, **kwargs)\n",
    "\n",
    "    def forward(self, x):\n",
    "        output = self.model(x)['out']\n",
    "        output = torch.nn.functional.softmax(output, dim=1)\n",
    "        return output\n"
   ]
  },
  {
   "cell_type": "code",
   "execution_count": 3,
   "metadata": {},
   "outputs": [],
   "source": [
    "arch_config = {\n",
    "    'name': 'FCN',\n",
    "    'FCN': {\n",
    "        'replace_stride_with_dilation': [True, True, True],\n",
    "        'backbone': '\"resnet50\"',\n",
    "        'pretrained_backbone': False\n",
    "    }\n",
    "}"
   ]
  },
  {
   "cell_type": "code",
   "execution_count": 4,
   "metadata": {},
   "outputs": [],
   "source": [
    "model = create_instance(arch_config)"
   ]
  },
  {
   "cell_type": "code",
   "execution_count": 5,
   "metadata": {},
   "outputs": [],
   "source": [
    "import cv2\n",
    "import torch\n",
    "\n",
    "class Extractor():\n",
    "    def __init__(self, arch_config, image_size, weight_path, device, **kwargs):\n",
    "        super(Extractor, self).__init__()\n",
    "        self.device = device\n",
    "        self.image_size = image_size\n",
    "        self.model = create_instance(arch_config, **kwargs)\n",
    "        self.model.load_state_dict(torch.load(weight_path, map_location='cpu'))\n",
    "        self.model.eval()\n",
    "        self.model.to(self.device)\n",
    "\n",
    "    def preprocess(self, image):\n",
    "        sample = torch.from_numpy(cv2.resize(image, dsize=self.image_size))\n",
    "        samples = sample.unsqueeze(dim=0).to(self.device).to(torch.float)\n",
    "        samples = samples.permute(0, 3, 1, 2)\n",
    "        samples = (samples - samples.mean(dim=(1, 2, 3), keepdim=True)) / samples.std(dim=(1, 2, 3), keepdim=True)\n",
    "        return image, samples\n",
    "\n",
    "    def process(self, image, samples):\n",
    "        with torch.no_grad():\n",
    "            return image, self.model(samples)\n",
    "\n",
    "    def postprocess(self, image, preds):\n",
    "        preds = preds.permute(0, 2, 3, 1).detach().cpu().numpy()\n",
    "        pred = preds[0]  # input one image\n",
    "        return image, pred\n",
    "\n",
    "    def __call__(self, image):\n",
    "        image, samples = self.preprocess(image)\n",
    "        image, preds = self.process(image, samples)\n",
    "        image, pred = self.postprocess(image, preds)\n",
    "        return image, pred"
   ]
  },
  {
   "cell_type": "code",
   "execution_count": 6,
   "metadata": {},
   "outputs": [],
   "source": [
    "config = {\n",
    "    'name': 'Extractor',\n",
    "    'Extractor': {\n",
    "        'arch_config': {\n",
    "            'name': 'FCN',\n",
    "            'FCN': {\n",
    "                'replace_stride_with_dilation': [True, True, True],\n",
    "                'backbone': '\"resnet50\"',\n",
    "                'pretrained_backbone': False\n",
    "            }\n",
    "        },\n",
    "        'image_size': (256, 256),\n",
    "        'weight_path': \"'best_model_40_loss=-0.07206277665637788.pth'\",\n",
    "        'device': \"'cpu'\",\n",
    "        'num_classes': 12\n",
    "    }\n",
    "}\n",
    "\n",
    "classes = {\n",
    "    'BG': [0, 0, False],\n",
    "    'HEADING': [1, 0.0214, True],\n",
    "    'V_ID': [2, 0.0096, True],\n",
    "    'V_NAME1': [3, 0.0163, True],\n",
    "    'V_NAME2': [4, 0.0180, True],\n",
    "    'V_BD': [5, 0.0051, True],\n",
    "    'V_BP1': [6, 0.0075, True],\n",
    "    'V_BP2': [7, 0.0158, True],\n",
    "    'V_A1': [8, 0.0081, True],\n",
    "    'V_A2': [9, 0.0231, True],\n",
    "    'LOGO': [10, 0.0420, False],\n",
    "    'FIGURE': [11, 0.1090, False]\n",
    "}"
   ]
  },
  {
   "cell_type": "code",
   "execution_count": 7,
   "metadata": {},
   "outputs": [],
   "source": [
    "textline_extractor = create_instance(config)"
   ]
  },
  {
   "cell_type": "code",
   "execution_count": 8,
   "metadata": {},
   "outputs": [],
   "source": [
    "import cv2\n",
    "import numpy as np"
   ]
  },
  {
   "cell_type": "code",
   "execution_count": 9,
   "metadata": {},
   "outputs": [],
   "source": [
    "image = cv2.imread('./test/extracted_card.jpg')\n",
    "image, pred = textline_extractor(image)"
   ]
  },
  {
   "cell_type": "code",
   "execution_count": 10,
   "metadata": {},
   "outputs": [],
   "source": [
    "cv2.imshow('image', image)\n",
    "cv2.waitKey()\n",
    "cv2.destroyAllWindows()"
   ]
  },
  {
   "cell_type": "code",
   "execution_count": 11,
   "metadata": {},
   "outputs": [
    {
     "data": {
      "text/plain": [
       "(408, 664, 3)"
      ]
     },
     "execution_count": 11,
     "metadata": {},
     "output_type": "execute_result"
    }
   ],
   "source": [
    "image.shape"
   ]
  },
  {
   "cell_type": "code",
   "execution_count": 12,
   "metadata": {},
   "outputs": [
    {
     "data": {
      "text/plain": [
       "(256, 256, 12)"
      ]
     },
     "execution_count": 12,
     "metadata": {},
     "output_type": "execute_result"
    }
   ],
   "source": [
    "pred.shape"
   ]
  },
  {
   "cell_type": "code",
   "execution_count": 13,
   "metadata": {},
   "outputs": [
    {
     "name": "stdout",
     "output_type": "stream",
     "text": [
      "BG\n",
      "HEADING\n",
      "V_ID\n",
      "V_NAME1\n",
      "V_NAME2\n",
      "V_BD\n",
      "V_BP1\n",
      "V_BP2\n",
      "V_A1\n",
      "V_A2\n",
      "LOGO\n",
      "FIGURE\n"
     ]
    }
   ],
   "source": [
    "for i in range(len(classes)):\n",
    "    num_labels, labels = cv2.connectedComponents(pred[..., i].round().astype(np.uint8))\n",
    "    mask = np.zeros_like(labels).astype(np.uint8)\n",
    "    for j in range(1, num_labels):\n",
    "        mask = ((mask + (labels == j).astype(np.uint8)) != 0).astype(np.uint8)\n",
    "    print(list(classes.keys())[i])\n",
    "    cv2.imshow(f'image_{i}', mask * 255)\n",
    "    cv2.waitKey()\n",
    "    cv2.destroyAllWindows()"
   ]
  },
  {
   "cell_type": "code",
   "execution_count": 14,
   "metadata": {},
   "outputs": [],
   "source": [
    "def order_points(points):\n",
    "    assert len(points) == 4, 'Length of points must be 4'\n",
    "    left = sorted(points, key=lambda p: p[0])[:2]\n",
    "    right = sorted(points, key=lambda p: p[0])[2:]\n",
    "    tl, bl = sorted(left, key=lambda p: p[1])\n",
    "    tr, br = sorted(right, key=lambda p: p[1])\n",
    "    return [tl, tr, br, bl]"
   ]
  },
  {
   "cell_type": "code",
   "execution_count": 15,
   "metadata": {},
   "outputs": [],
   "source": [
    "def get_line(mask):\n",
    "    num_labels, label = cv2.connectedComponents(mask.round().astype(np.uint8))\n",
    "    if num_labels == 1:\n",
    "        return None\n",
    "    for i in range(1, num_labels):\n",
    "        contours, _ = cv2.findContours(np.uint8(label == i), cv2.RETR_EXTERNAL, cv2.CHAIN_APPROX_SIMPLE)\n",
    "        contour = contours[0]\n",
    "        textline = cv2.boxPoints(cv2.minAreaRect(contour))       \n",
    "        textline = order_points(textline)\n",
    "    \n",
    "    return textline"
   ]
  },
  {
   "cell_type": "code",
   "execution_count": 16,
   "metadata": {},
   "outputs": [],
   "source": [
    "for i in range(1, len(classes)):\n",
    "    num_labels, labels = cv2.connectedComponents(pred[..., i].round().astype(np.uint8))\n",
    "    mask = np.zeros_like(labels).astype(np.uint8)\n",
    "    for j in range(1, num_labels):\n",
    "        mask = ((mask + (labels == j).astype(np.uint8)) != 0).astype(np.uint8)\n",
    "    line = get_line(mask)\n",
    "    if line is not None:\n",
    "        line = np.int0(line)\n",
    "        line = np.array([[x * image.shape[1] // 256, y * image.shape[0] // 256] for x, y in line])\n",
    "        cv2.drawContours(image, [line], -1,  (0, 255, 0), 2)\n",
    "    cv2.imshow(f'image_{i}', mask * 255)\n",
    "    cv2.waitKey()\n",
    "    cv2.destroyAllWindows()"
   ]
  },
  {
   "cell_type": "code",
   "execution_count": 19,
   "metadata": {},
   "outputs": [],
   "source": [
    "cv2.imshow('image', image)\n",
    "cv2.waitKey()\n",
    "cv2.destroyAllWindows()"
   ]
  }
 ],
 "metadata": {
  "kernelspec": {
   "display_name": "Python 3",
   "language": "python",
   "name": "python3"
  },
  "language_info": {
   "codemirror_mode": {
    "name": "ipython",
    "version": 3
   },
   "file_extension": ".py",
   "mimetype": "text/x-python",
   "name": "python",
   "nbconvert_exporter": "python",
   "pygments_lexer": "ipython3",
   "version": "3.8.5"
  }
 },
 "nbformat": 4,
 "nbformat_minor": 4
}
