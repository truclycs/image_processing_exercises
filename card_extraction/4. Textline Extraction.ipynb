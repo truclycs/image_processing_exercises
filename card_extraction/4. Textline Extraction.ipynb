{
 "cells": [
  {
   "cell_type": "markdown",
   "metadata": {},
   "source": [
    "# Input"
   ]
  },
  {
   "cell_type": "code",
   "execution_count": 62,
   "metadata": {},
   "outputs": [],
   "source": [
    "class CardInfo():\n",
    "    def __init__(self, \n",
    "                 idx=None, \n",
    "                 original_image=None, \n",
    "                 image=None, \n",
    "                 warped_size=None, \n",
    "                 card_type: str=None, \n",
    "                 angle: int=None,\n",
    "                 textlines=None):\n",
    "        self.idx = idx\n",
    "        self.original_image = original_image\n",
    "        self.image = image\n",
    "        self.warped_size = warped_size\n",
    "        self.card_type = card_type\n",
    "        self.angle = angle\n",
    "        self.textlines = textlines"
   ]
  },
  {
   "cell_type": "code",
   "execution_count": 63,
   "metadata": {},
   "outputs": [],
   "source": [
    "import cv2\n",
    "import numpy as np\n",
    "\n",
    "image = cv2.imread('test_images/input/extracted_card.jpg')\n",
    "card_info = CardInfo()\n",
    "\n",
    "card_infos = []\n",
    "card_info.image = image\n",
    "card_info.orginal_image = image\n",
    "card_infos.append(card_info)"
   ]
  },
  {
   "cell_type": "markdown",
   "metadata": {},
   "source": [
    "# Processor"
   ]
  },
  {
   "cell_type": "code",
   "execution_count": 64,
   "metadata": {},
   "outputs": [],
   "source": [
    "import torch\n",
    "from fcn import FCN\n",
    "import time\n",
    "\n",
    "num_class = 12\n",
    "weight_path = '/home/vinhloiit/Documents/VTCC/id_info_extraction/models/weights/field_extraction/cmnd/2011091606/best_model_40_loss=-0.07206277665637788.pth'\n",
    "image_size = (256, 256)"
   ]
  },
  {
   "cell_type": "code",
   "execution_count": 66,
   "metadata": {},
   "outputs": [
    {
     "name": "stdout",
     "output_type": "stream",
     "text": [
      "Load weight: 0.0682060718536377s\n"
     ]
    }
   ],
   "source": [
    "# config model while training\n",
    "model = FCN(replace_stride_with_dilation=[True, True, True],\n",
    "            backbone=\"resnet50\",\n",
    "            pretrained_backbone=False,\n",
    "            num_classes=num_class)\n",
    "\n",
    "t1 = time.time()\n",
    "model.load_state_dict(torch.load(weight_path, map_location='cpu')) # Load weight\n",
    "t2 = time.time()\n",
    "\n",
    "device = torch.device('cuda' if torch.cuda.is_available() else 'cpu') # Chọn device nếu là GPU thì sẽ chuyển sang GPU\n",
    "model.to(device)\n",
    "model.eval()\n",
    "\n",
    "print(f'Load weight: {t2 - t1}s')"
   ]
  },
  {
   "cell_type": "markdown",
   "metadata": {},
   "source": [
    "## 1. preprocess"
   ]
  },
  {
   "cell_type": "code",
   "execution_count": 67,
   "metadata": {},
   "outputs": [],
   "source": [
    "def preprocess(card_infos):\n",
    "    images = [card_info.image for card_info in card_infos]\n",
    "    samples = [cv2.resize(image, image_size) for image in images]\n",
    "    samples = np.array(samples)\n",
    "    samples = torch.from_numpy(samples).to(device).to(torch.float)\n",
    "    samples = samples.permute(0, 3, 1, 2)\n",
    "    samples = (samples - samples.mean(dim=(1, 2, 3), keepdim=True)) / samples.std(dim=(1, 2, 3), keepdim=True)\n",
    "    return card_infos, samples"
   ]
  },
  {
   "cell_type": "markdown",
   "metadata": {},
   "source": [
    "## 2. process"
   ]
  },
  {
   "cell_type": "code",
   "execution_count": 68,
   "metadata": {},
   "outputs": [],
   "source": [
    "def process(card_infos, samples):\n",
    "    with torch.no_grad():\n",
    "        return card_infos, model(samples)    "
   ]
  },
  {
   "cell_type": "markdown",
   "metadata": {},
   "source": [
    "## 3. postprocess"
   ]
  },
  {
   "cell_type": "code",
   "execution_count": 69,
   "metadata": {},
   "outputs": [],
   "source": [
    "def postprocess(card_infos, preds):\n",
    "    preds = preds.permute(0, 2, 3, 1).detach().cpu().numpy() # (B, C, H, W) -> (B, H, W, C)\n",
    "    return card_infos, preds"
   ]
  },
  {
   "cell_type": "markdown",
   "metadata": {},
   "source": [
    "# Stage"
   ]
  },
  {
   "cell_type": "markdown",
   "metadata": {},
   "source": [
    "## 1. preprocess"
   ]
  },
  {
   "cell_type": "code",
   "execution_count": 70,
   "metadata": {},
   "outputs": [],
   "source": [
    "def spreprocess(card_infos):\n",
    "    if __debug__:\n",
    "        for i, card_info in enumerate(card_infos):\n",
    "            assert type(card_info.image).__name__ == 'ndarray', f'Image #{i} must be an ndarray.'\n",
    "            assert card_info.image.ndim == 3, f'Image #{i} must be a 3D ndarray.'\n",
    "            assert card_info.image.shape[-1] == 3, f'Image #{i} must have 3 channels.'\n",
    "\n",
    "    return card_infos,"
   ]
  },
  {
   "cell_type": "markdown",
   "metadata": {},
   "source": [
    "## 2. process"
   ]
  },
  {
   "cell_type": "code",
   "execution_count": 71,
   "metadata": {},
   "outputs": [],
   "source": [
    "def sprocess(card_infos):\n",
    "    card_infos, samples = preprocess(card_infos)\n",
    "    card_infos, preds = process(card_infos, samples)\n",
    "    card_infos, preds = postprocess(card_infos, preds)\n",
    "    return card_infos, preds"
   ]
  },
  {
   "cell_type": "code",
   "execution_count": 72,
   "metadata": {},
   "outputs": [],
   "source": [
    "classes = {\n",
    "    'HEADING': [1, [175, 153, 144], True],\n",
    "    'V_ID': [2, [75, 25, 230], True],\n",
    "    'V_NAME1': [3, [128, 0, 0], True],\n",
    "    'V_NAME2': [4, [48, 130, 245], True],\n",
    "    'V_BD': [5, [128, 128, 0], True],\n",
    "    'V_BP1': [6, [25, 225, 225], True],\n",
    "    'V_BP2': [7, [75, 180, 60], True],\n",
    "    'V_A1': [8, [180, 215, 255], True],\n",
    "    'V_A2': [9, [240, 240, 70], True],\n",
    "    'LOGO': [10, [255, 190, 230], False],\n",
    "    'FIGURE': [11, [255, 255, 255], False],\n",
    "    'BG': [0, [0, 255, 0], False],\n",
    "}"
   ]
  },
  {
   "cell_type": "code",
   "execution_count": 11,
   "metadata": {},
   "outputs": [],
   "source": [
    "card_infos, preds = sprocess(card_infos)\n",
    "pred = preds[0] # 1 image [H, W, C]\n",
    "for i in range(len(classes)):\n",
    "    num_labels, labels = cv2.connectedComponents(pred[..., i].round().astype(np.uint8))\n",
    "    mask = np.zeros_like(labels).astype(np.uint8) #Array of zeros with the same shape and type as labels.\n",
    "    for j in range(1, num_labels):\n",
    "        mask = ((mask + (labels == j).astype(np.uint8)) != 0).astype(np.uint8) # mask of each class\n",
    "        \n",
    "    cv2.imshow(list(classes.keys())[i], mask * 255)\n",
    "    cv2.waitKey()\n",
    "    cv2.destroyAllWindows()"
   ]
  },
  {
   "cell_type": "markdown",
   "metadata": {},
   "source": [
    "## 3. postprocess"
   ]
  },
  {
   "cell_type": "code",
   "execution_count": 74,
   "metadata": {},
   "outputs": [],
   "source": [
    "from scipy.spatial import distance\n",
    "\n",
    "def expand_height(points):\n",
    "    \"\"\"Expand height after found textline\"\"\"\n",
    "    if distance.euclidean(points[0], points[1]) > distance.euclidean(points[0], points[3]):\n",
    "        points[0] = points[0] - 0.50 * (points[3] - points[0])\n",
    "        points[1] = points[1] - 0.50 * (points[2] - points[1])\n",
    "        points[3] = points[0] + 4 / 3 * (points[3] - points[0])\n",
    "        points[2] = points[1] + 4 / 3 * (points[2] - points[1])\n",
    "    else:\n",
    "        points[0] = points[0] - 0.50 * (points[1] - points[0])\n",
    "        points[3] = points[3] - 0.50 * (points[2] - points[3])\n",
    "        points[1] = points[0] + 4 / 3 * (points[1] - points[0])\n",
    "        points[2] = points[3] + 4 / 3 * (points[2] - points[3])\n",
    "    return points"
   ]
  },
  {
   "cell_type": "code",
   "execution_count": 75,
   "metadata": {},
   "outputs": [],
   "source": [
    "def order_points(points):\n",
    "    assert len(points) == 4, 'Length of points must be 4'\n",
    "    left = sorted(points, key=lambda p: p[0])[:2]\n",
    "    right = sorted(points, key=lambda p: p[0])[2:]\n",
    "    tl, bl = sorted(left, key=lambda p: p[1])\n",
    "    tr, br = sorted(right, key=lambda p: p[1])\n",
    "    return [tl, tr, br, bl]"
   ]
  },
  {
   "cell_type": "code",
   "execution_count": 76,
   "metadata": {},
   "outputs": [],
   "source": [
    "def get_line(mask):\n",
    "    \"\"\"Get 4 corners of each line\"\"\"\n",
    "    textlines = []\n",
    "    num_labels, label = cv2.connectedComponents(mask.round().astype(np.uint8))\n",
    "    for i in range(1, num_labels):\n",
    "        contours, _ = cv2.findContours(np.uint8(label == i), cv2.RETR_EXTERNAL, cv2.CHAIN_APPROX_SIMPLE)\n",
    "        contour = contours[0]\n",
    "        textline = cv2.boxPoints(cv2.minAreaRect(contour)) #bounding rectangle is drawn with minimum area  \n",
    "        textlines.append(order_points(textline))\n",
    "    \n",
    "    return textlines"
   ]
  },
  {
   "cell_type": "code",
   "execution_count": 77,
   "metadata": {},
   "outputs": [],
   "source": [
    "def find_textlines(image, pred):\n",
    "    image_original_size = image.shape[1::-1]\n",
    "#     color_mask = np.zeros(shape=(*pred.shape[1::-1], 3), dtype=np.uint8)\n",
    "    output_image = image.copy()\n",
    "\n",
    "    textlines = {}\n",
    "    for class_name, [i, color, expand] in classes.items():\n",
    "        if class_name == 'BG':\n",
    "            continue\n",
    "            \n",
    "        mask = pred[..., i].round().astype(np.uint8) # round value at (x,y) of class i -> binary image\n",
    "               \n",
    "        lines = get_line(mask) # 4 corners of each textline\n",
    "        for line in lines:\n",
    "            if expand:\n",
    "                line = expand_height(line)\n",
    "                \n",
    "            line = np.array([[x * image.shape[1] // 256, y * image.shape[0] // 256] for x, y in line]) # Convert to orginal image size\n",
    "            textlines[class_name] = line\n",
    "            cv2.drawContours(output_image, [np.int32(line)], -1,  color, 2)\n",
    "    return textlines, output_image"
   ]
  },
  {
   "cell_type": "code",
   "execution_count": 78,
   "metadata": {},
   "outputs": [],
   "source": [
    "def get_warped_images(image, pts):\n",
    "    rect = order_points(pts)\n",
    "    tl, tr, br, bl = rect\n",
    "    widthA = np.sqrt(((br[0] - bl[0]) ** 2) + ((br[1] - bl[1]) ** 2))\n",
    "    widthB = np.sqrt(((tr[0] - tl[0]) ** 2) + ((tr[1] - tl[1]) ** 2))\n",
    "    maxWidth = max(widthA, widthB)\n",
    "\n",
    "    heightA = np.sqrt(((tr[0] - br[0]) ** 2) + ((tr[1] - br[1]) ** 2))\n",
    "    heightB = np.sqrt(((tl[0] - bl[0]) ** 2) + ((tl[1] - bl[1]) ** 2))\n",
    "    maxHeight = max(heightA, heightB)\n",
    "\n",
    "    dst = np.array([\n",
    "        [0, 0],\n",
    "        [maxWidth - 1, 0],\n",
    "        [maxWidth - 1, maxHeight - 1],\n",
    "    [0, maxHeight - 1]], dtype = \"float32\")\n",
    "    \n",
    "    rect = np.array(rect, dtype = \"float32\")\n",
    "    M = cv2.getPerspectiveTransform(rect, dst)\n",
    "    warped = cv2.warpPerspective(image, M, int(maxWidth), int(maxHeight))\n",
    "\n",
    "    return warped"
   ]
  },
  {
   "cell_type": "code",
   "execution_count": 79,
   "metadata": {},
   "outputs": [],
   "source": [
    "def cut_textlines(image, pred):\n",
    "    textlines, output_image = find_textlines(image, pred)\n",
    "    for class_name, textline in textlines.items():\n",
    "        warped_images = get_warped_images(image, textline)\n",
    "        textlines[class_name] = warped_images\n",
    "    return textlines, output_image"
   ]
  },
  {
   "cell_type": "code",
   "execution_count": 80,
   "metadata": {},
   "outputs": [],
   "source": [
    "def spostprocess(card_infos, preds):\n",
    "    for card_info, pred in zip(card_infos, preds):\n",
    "        textlines, textline_image = cut_textlines(card_info.image, pred)\n",
    "        card_info.textlines = textlines\n",
    "        cv2.imshow('textline image', textline_image)\n",
    "        cv2.waitKey()\n",
    "        cv2.destroyAllWindows()\n",
    "    return card_infos,"
   ]
  },
  {
   "cell_type": "markdown",
   "metadata": {},
   "source": [
    "# TEST"
   ]
  },
  {
   "cell_type": "code",
   "execution_count": 81,
   "metadata": {},
   "outputs": [],
   "source": [
    "card_infos, = spreprocess(card_infos)\n",
    "card_infos, preds = sprocess(card_infos)\n",
    "card_infos, = spostprocess(card_infos, preds)"
   ]
  },
  {
   "cell_type": "code",
   "execution_count": 82,
   "metadata": {},
   "outputs": [],
   "source": [
    "for card_info in card_infos:\n",
    "    for class_name, textline in card_info.textlines.items():\n",
    "        cv2.imshow(class_name, textline)\n",
    "        cv2.waitKey()\n",
    "        cv2.destroyAllWindows()"
   ]
  }
 ],
 "metadata": {
  "kernelspec": {
   "display_name": "Python 3",
   "language": "python",
   "name": "python3"
  },
  "language_info": {
   "codemirror_mode": {
    "name": "ipython",
    "version": 3
   },
   "file_extension": ".py",
   "mimetype": "text/x-python",
   "name": "python",
   "nbconvert_exporter": "python",
   "pygments_lexer": "ipython3",
   "version": "3.8.5"
  }
 },
 "nbformat": 4,
 "nbformat_minor": 4
}
